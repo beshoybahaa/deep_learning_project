{
 "cells": [
  {
   "cell_type": "code",
   "execution_count": 1,
   "id": "9635c8a1",
   "metadata": {
    "_cell_guid": "b1076dfc-b9ad-4769-8c92-a6c4dae69d19",
    "_uuid": "8f2839f25d086af736a60e9eeb907d3b93b6e0e5",
    "execution": {
     "iopub.execute_input": "2024-12-18T21:17:23.866441Z",
     "iopub.status.busy": "2024-12-18T21:17:23.866113Z",
     "iopub.status.idle": "2024-12-18T21:17:38.014916Z",
     "shell.execute_reply": "2024-12-18T21:17:38.014178Z"
    },
    "papermill": {
     "duration": 14.155347,
     "end_time": "2024-12-18T21:17:38.016886",
     "exception": false,
     "start_time": "2024-12-18T21:17:23.861539",
     "status": "completed"
    },
    "tags": []
   },
   "outputs": [],
   "source": [
    "import os\n",
    "import cv2\n",
    "from keras import layers\n",
    "from keras import models\n",
    "from keras.utils import to_categorical\n",
    "from sklearn.model_selection import train_test_split\n",
    "import matplotlib.pyplot as plt\n",
    "from tensorflow.keras.optimizers import Adam"
   ]
  },
  {
   "cell_type": "code",
   "execution_count": 2,
   "id": "1f60c58b",
   "metadata": {
    "execution": {
     "iopub.execute_input": "2024-12-18T21:17:38.023830Z",
     "iopub.status.busy": "2024-12-18T21:17:38.023071Z",
     "iopub.status.idle": "2024-12-18T21:18:18.269310Z",
     "shell.execute_reply": "2024-12-18T21:18:18.268505Z"
    },
    "papermill": {
     "duration": 40.251617,
     "end_time": "2024-12-18T21:18:18.271354",
     "exception": false,
     "start_time": "2024-12-18T21:17:38.019737",
     "status": "completed"
    },
    "tags": []
   },
   "outputs": [],
   "source": [
    "path = \"/kaggle/input/covid19-radiography-dataset/COVID-19_Radiography_Dataset/COVID-19_Radiography_Dataset\"\n",
    "images = []\n",
    "labels = []\n",
    "i = 0\n",
    "for files in os.listdir(path):\n",
    "    counter = 0\n",
    "    for imagesPath in os.listdir(path+\"/\"+files):\n",
    "        img = cv2.imread(path+\"/\"+files+\"/\"+imagesPath)\n",
    "        img = cv2.resize(img,(100,100))\n",
    "        img = img/255\n",
    "        images.append(img)\n",
    "        labels.append(i)\n",
    "        if counter == 1330:\n",
    "            break\n",
    "        counter += 1\n",
    "    i += 1"
   ]
  },
  {
   "cell_type": "code",
   "execution_count": 3,
   "id": "a132bf30",
   "metadata": {
    "execution": {
     "iopub.execute_input": "2024-12-18T21:18:18.277555Z",
     "iopub.status.busy": "2024-12-18T21:18:18.277243Z",
     "iopub.status.idle": "2024-12-18T21:18:18.281033Z",
     "shell.execute_reply": "2024-12-18T21:18:18.280315Z"
    },
    "papermill": {
     "duration": 0.008566,
     "end_time": "2024-12-18T21:18:18.282560",
     "exception": false,
     "start_time": "2024-12-18T21:18:18.273994",
     "status": "completed"
    },
    "tags": []
   },
   "outputs": [],
   "source": [
    "# labels = to_categorical(labels)"
   ]
  },
  {
   "cell_type": "code",
   "execution_count": 4,
   "id": "e9f1e262",
   "metadata": {
    "execution": {
     "iopub.execute_input": "2024-12-18T21:18:18.288296Z",
     "iopub.status.busy": "2024-12-18T21:18:18.288023Z",
     "iopub.status.idle": "2024-12-18T21:18:18.297282Z",
     "shell.execute_reply": "2024-12-18T21:18:18.296634Z"
    },
    "papermill": {
     "duration": 0.014295,
     "end_time": "2024-12-18T21:18:18.299167",
     "exception": false,
     "start_time": "2024-12-18T21:18:18.284872",
     "status": "completed"
    },
    "tags": []
   },
   "outputs": [],
   "source": [
    "x_train,x_test,y_train,y_test = train_test_split(images,labels,test_size=0.2,random_state=42,shuffle=True)"
   ]
  },
  {
   "cell_type": "code",
   "execution_count": 5,
   "id": "c72db90c",
   "metadata": {
    "execution": {
     "iopub.execute_input": "2024-12-18T21:18:18.305282Z",
     "iopub.status.busy": "2024-12-18T21:18:18.305010Z",
     "iopub.status.idle": "2024-12-18T21:18:18.309624Z",
     "shell.execute_reply": "2024-12-18T21:18:18.308983Z"
    },
    "papermill": {
     "duration": 0.009621,
     "end_time": "2024-12-18T21:18:18.311354",
     "exception": false,
     "start_time": "2024-12-18T21:18:18.301733",
     "status": "completed"
    },
    "tags": []
   },
   "outputs": [],
   "source": [
    "y_train = to_categorical(y_train)\n",
    "y_test = to_categorical(y_test)"
   ]
  },
  {
   "cell_type": "code",
   "execution_count": 6,
   "id": "e406e399",
   "metadata": {
    "execution": {
     "iopub.execute_input": "2024-12-18T21:18:18.317452Z",
     "iopub.status.busy": "2024-12-18T21:18:18.317189Z",
     "iopub.status.idle": "2024-12-18T21:18:18.321026Z",
     "shell.execute_reply": "2024-12-18T21:18:18.320219Z"
    },
    "papermill": {
     "duration": 0.008759,
     "end_time": "2024-12-18T21:18:18.322644",
     "exception": false,
     "start_time": "2024-12-18T21:18:18.313885",
     "status": "completed"
    },
    "tags": []
   },
   "outputs": [],
   "source": [
    "# x_train = x_train[:14812]\n",
    "# x_test = x_test[:6348]\n",
    "# y_train = y_train[:14812]\n",
    "# y_test = y_test[:6348]"
   ]
  },
  {
   "cell_type": "code",
   "execution_count": 7,
   "id": "a7f132e1",
   "metadata": {
    "execution": {
     "iopub.execute_input": "2024-12-18T21:18:18.329467Z",
     "iopub.status.busy": "2024-12-18T21:18:18.329195Z",
     "iopub.status.idle": "2024-12-18T21:18:18.749793Z",
     "shell.execute_reply": "2024-12-18T21:18:18.749057Z"
    },
    "papermill": {
     "duration": 0.426938,
     "end_time": "2024-12-18T21:18:18.751812",
     "exception": false,
     "start_time": "2024-12-18T21:18:18.324874",
     "status": "completed"
    },
    "tags": []
   },
   "outputs": [],
   "source": [
    "import numpy as np\n",
    "x_train = np.array(x_train)\n",
    "x_test = np.array(x_test)\n",
    "y_train = np.array(y_train)\n",
    "y_test = np.array(y_test)"
   ]
  },
  {
   "cell_type": "code",
   "execution_count": 8,
   "id": "d6d43139",
   "metadata": {
    "execution": {
     "iopub.execute_input": "2024-12-18T21:18:18.758773Z",
     "iopub.status.busy": "2024-12-18T21:18:18.758231Z",
     "iopub.status.idle": "2024-12-18T21:18:18.989489Z",
     "shell.execute_reply": "2024-12-18T21:18:18.988728Z"
    },
    "papermill": {
     "duration": 0.236966,
     "end_time": "2024-12-18T21:18:18.991782",
     "exception": false,
     "start_time": "2024-12-18T21:18:18.754816",
     "status": "completed"
    },
    "tags": []
   },
   "outputs": [],
   "source": [
    "from tensorflow.keras.applications import DenseNet121\n",
    "from keras_tuner import Hyperband\n",
    "from keras.callbacks import EarlyStopping, ReduceLROnPlateau\n",
    "import keras_tuner as kt"
   ]
  },
  {
   "cell_type": "code",
   "execution_count": 9,
   "id": "76a0d646",
   "metadata": {
    "execution": {
     "iopub.execute_input": "2024-12-18T21:18:18.998484Z",
     "iopub.status.busy": "2024-12-18T21:18:18.997582Z",
     "iopub.status.idle": "2024-12-18T21:18:22.515547Z",
     "shell.execute_reply": "2024-12-18T21:18:22.514382Z"
    },
    "papermill": {
     "duration": 3.523332,
     "end_time": "2024-12-18T21:18:22.517638",
     "exception": false,
     "start_time": "2024-12-18T21:18:18.994306",
     "status": "completed"
    },
    "tags": []
   },
   "outputs": [
    {
     "name": "stdout",
     "output_type": "stream",
     "text": [
      "Downloading data from https://storage.googleapis.com/tensorflow/keras-applications/densenet/densenet121_weights_tf_dim_ordering_tf_kernels_notop.h5\n",
      "\u001b[1m29084464/29084464\u001b[0m \u001b[32m━━━━━━━━━━━━━━━━━━━━\u001b[0m\u001b[37m\u001b[0m \u001b[1m0s\u001b[0m 0us/step\n"
     ]
    }
   ],
   "source": [
    "base_model = DenseNet121(weights='imagenet', include_top=False, input_shape=(100, 100, 3))\n",
    "base_model.trainable = False  # Freeze the base model\n",
    "\n",
    "def build_model(hp):\n",
    "    # Add custom classification layers\n",
    "    x = base_model.output\n",
    "    x = layers.GlobalAveragePooling2D()(x)\n",
    "    # x = layers.Dense(hp.Int('units1', min_value=256, max_value=1024, step=128), activation='relu')(x)\n",
    "    \n",
    "    x = layers.Dense(hp.Int('units2', min_value=128, max_value=512, step=64), activation='relu')(x)\n",
    "    x = layers.Dropout(hp.Float('dropout1', 0.2, 0.5, step=0.1))(x)\n",
    "    # x = layers.Dropout(hp.Float('dropout2', 0.2, 0.5, step=0.1))(x)\n",
    "    x = layers.Dense(hp.Int('units2', min_value=64, max_value=128, step=32), activation='relu')(x)\n",
    "    predictions = layers.Dense(4, activation='softmax')(x)\n",
    "\n",
    "    model = models.Model(inputs=base_model.input, outputs=predictions)\n",
    "    \n",
    "    model.compile(\n",
    "        optimizer=Adam(learning_rate=hp.Choice('learning_rate', [1e-3, 1e-4, 1e-5])),\n",
    "        loss='categorical_crossentropy',\n",
    "        metrics=['accuracy']\n",
    "    )\n",
    "    return model"
   ]
  },
  {
   "cell_type": "code",
   "execution_count": 10,
   "id": "0ff5fc74",
   "metadata": {
    "execution": {
     "iopub.execute_input": "2024-12-18T21:18:22.524677Z",
     "iopub.status.busy": "2024-12-18T21:18:22.524357Z",
     "iopub.status.idle": "2024-12-18T21:54:58.345505Z",
     "shell.execute_reply": "2024-12-18T21:54:58.344409Z"
    },
    "papermill": {
     "duration": 2195.827079,
     "end_time": "2024-12-18T21:54:58.347697",
     "exception": false,
     "start_time": "2024-12-18T21:18:22.520618",
     "status": "completed"
    },
    "tags": []
   },
   "outputs": [
    {
     "name": "stdout",
     "output_type": "stream",
     "text": [
      "Trial 30 Complete [00h 02m 05s]\n",
      "val_accuracy: 0.7633802890777588\n",
      "\n",
      "Best val_accuracy So Far: 0.8798121809959412\n",
      "Total elapsed time: 00h 36m 36s\n"
     ]
    }
   ],
   "source": [
    "# Step 2: Set up the tuner\n",
    "tuner = Hyperband(\n",
    "    build_model,\n",
    "    objective='val_accuracy',\n",
    "    max_epochs=20,\n",
    "    factor=3,\n",
    "    directory='hyperparam_tuning',\n",
    "    project_name='xception_tuning'\n",
    ")\n",
    "\n",
    "# Step 3: Callbacks\n",
    "early_stopping = EarlyStopping(monitor='val_loss', patience=5, restore_best_weights=True)\n",
    "reduce_lr = ReduceLROnPlateau(monitor='val_loss', factor=0.2, patience=3, min_lr=1e-6)\n",
    "\n",
    "# Step 4: Perform the hyperparameter search\n",
    "tuner.search(x_train, y_train, validation_data=(x_test, y_test), callbacks=[early_stopping,reduce_lr], epochs=50)"
   ]
  },
  {
   "cell_type": "code",
   "execution_count": null,
   "id": "1fd9b302",
   "metadata": {
    "papermill": {
     "duration": 0.005297,
     "end_time": "2024-12-18T21:54:58.356387",
     "exception": false,
     "start_time": "2024-12-18T21:54:58.351090",
     "status": "completed"
    },
    "tags": []
   },
   "outputs": [],
   "source": []
  }
 ],
 "metadata": {
  "kaggle": {
   "accelerator": "gpu",
   "dataSources": [
    {
     "datasetId": 1357907,
     "sourceId": 2258144,
     "sourceType": "datasetVersion"
    }
   ],
   "dockerImageVersionId": 30805,
   "isGpuEnabled": true,
   "isInternetEnabled": true,
   "language": "python",
   "sourceType": "notebook"
  },
  "kernelspec": {
   "display_name": "Python 3",
   "language": "python",
   "name": "python3"
  },
  "language_info": {
   "codemirror_mode": {
    "name": "ipython",
    "version": 3
   },
   "file_extension": ".py",
   "mimetype": "text/x-python",
   "name": "python",
   "nbconvert_exporter": "python",
   "pygments_lexer": "ipython3",
   "version": "3.10.14"
  },
  "papermill": {
   "default_parameters": {},
   "duration": 2261.487961,
   "end_time": "2024-12-18T21:55:02.786621",
   "environment_variables": {},
   "exception": null,
   "input_path": "__notebook__.ipynb",
   "output_path": "__notebook__.ipynb",
   "parameters": {},
   "start_time": "2024-12-18T21:17:21.298660",
   "version": "2.6.0"
  }
 },
 "nbformat": 4,
 "nbformat_minor": 5
}
