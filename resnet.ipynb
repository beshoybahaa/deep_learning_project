{
 "cells": [
  {
   "cell_type": "code",
   "execution_count": 1,
   "id": "8202a780",
   "metadata": {
    "_cell_guid": "b1076dfc-b9ad-4769-8c92-a6c4dae69d19",
    "_uuid": "8f2839f25d086af736a60e9eeb907d3b93b6e0e5",
    "execution": {
     "iopub.execute_input": "2024-12-18T21:06:13.343835Z",
     "iopub.status.busy": "2024-12-18T21:06:13.343517Z",
     "iopub.status.idle": "2024-12-18T21:06:14.222043Z",
     "shell.execute_reply": "2024-12-18T21:06:14.221151Z"
    },
    "papermill": {
     "duration": 0.885401,
     "end_time": "2024-12-18T21:06:14.224048",
     "exception": false,
     "start_time": "2024-12-18T21:06:13.338647",
     "status": "completed"
    },
    "tags": []
   },
   "outputs": [],
   "source": [
    "import os\n",
    "import cv2 as cv\n",
    "import pandas as pd"
   ]
  },
  {
   "cell_type": "code",
   "execution_count": 2,
   "id": "9646f575",
   "metadata": {
    "execution": {
     "iopub.execute_input": "2024-12-18T21:06:14.231512Z",
     "iopub.status.busy": "2024-12-18T21:06:14.231142Z",
     "iopub.status.idle": "2024-12-18T21:06:31.926716Z",
     "shell.execute_reply": "2024-12-18T21:06:31.925990Z"
    },
    "papermill": {
     "duration": 17.701296,
     "end_time": "2024-12-18T21:06:31.928688",
     "exception": false,
     "start_time": "2024-12-18T21:06:14.227392",
     "status": "completed"
    },
    "tags": []
   },
   "outputs": [],
   "source": [
    "from sklearn.model_selection import train_test_split\n",
    "from keras import models\n",
    "from keras import layers\n",
    "from keras.optimizers import Adam\n",
    "from keras.utils import to_categorical\n",
    "from torch.utils.data import Dataset, DataLoader\n",
    "from torchvision import transforms"
   ]
  },
  {
   "cell_type": "code",
   "execution_count": 3,
   "id": "8c0085a2",
   "metadata": {
    "execution": {
     "iopub.execute_input": "2024-12-18T21:06:31.936262Z",
     "iopub.status.busy": "2024-12-18T21:06:31.935713Z",
     "iopub.status.idle": "2024-12-18T21:10:53.815974Z",
     "shell.execute_reply": "2024-12-18T21:10:53.815203Z"
    },
    "papermill": {
     "duration": 261.886245,
     "end_time": "2024-12-18T21:10:53.818178",
     "exception": false,
     "start_time": "2024-12-18T21:06:31.931933",
     "status": "completed"
    },
    "tags": []
   },
   "outputs": [],
   "source": [
    "path = \"/kaggle/input/covid19-radiography-dataset/COVID-19_Radiography_Dataset/COVID-19_Radiography_Dataset\"\n",
    "images = []\n",
    "labels = []\n",
    "i = 0\n",
    "for files in os.listdir(path):\n",
    "    counter = 0\n",
    "    for imagesPath in os.listdir(path+\"/\"+files):\n",
    "        if counter==1330:\n",
    "            break\n",
    "        img = cv.imread(path+\"/\"+files+\"/\"+imagesPath)\n",
    "        img = cv.resize(img,(100,100))\n",
    "        img = img/255\n",
    "        images.append(img)\n",
    "        labels.append(i)\n",
    "    i += 1"
   ]
  },
  {
   "cell_type": "code",
   "execution_count": 4,
   "id": "026564b9",
   "metadata": {
    "execution": {
     "iopub.execute_input": "2024-12-18T21:10:53.825825Z",
     "iopub.status.busy": "2024-12-18T21:10:53.825558Z",
     "iopub.status.idle": "2024-12-18T21:10:53.831515Z",
     "shell.execute_reply": "2024-12-18T21:10:53.830758Z"
    },
    "papermill": {
     "duration": 0.011482,
     "end_time": "2024-12-18T21:10:53.833042",
     "exception": false,
     "start_time": "2024-12-18T21:10:53.821560",
     "status": "completed"
    },
    "tags": []
   },
   "outputs": [
    {
     "data": {
      "text/plain": [
       "21165"
      ]
     },
     "execution_count": 4,
     "metadata": {},
     "output_type": "execute_result"
    }
   ],
   "source": [
    "len(labels)"
   ]
  },
  {
   "cell_type": "code",
   "execution_count": 5,
   "id": "577953dd",
   "metadata": {
    "execution": {
     "iopub.execute_input": "2024-12-18T21:10:53.841239Z",
     "iopub.status.busy": "2024-12-18T21:10:53.840997Z",
     "iopub.status.idle": "2024-12-18T21:10:53.844586Z",
     "shell.execute_reply": "2024-12-18T21:10:53.843791Z"
    },
    "papermill": {
     "duration": 0.008945,
     "end_time": "2024-12-18T21:10:53.846222",
     "exception": false,
     "start_time": "2024-12-18T21:10:53.837277",
     "status": "completed"
    },
    "tags": []
   },
   "outputs": [],
   "source": [
    "# labels = to_categorical(labels)"
   ]
  },
  {
   "cell_type": "code",
   "execution_count": 6,
   "id": "03b7f8c9",
   "metadata": {
    "execution": {
     "iopub.execute_input": "2024-12-18T21:10:53.853052Z",
     "iopub.status.busy": "2024-12-18T21:10:53.852807Z",
     "iopub.status.idle": "2024-12-18T21:10:53.866699Z",
     "shell.execute_reply": "2024-12-18T21:10:53.866116Z"
    },
    "papermill": {
     "duration": 0.019223,
     "end_time": "2024-12-18T21:10:53.868451",
     "exception": false,
     "start_time": "2024-12-18T21:10:53.849228",
     "status": "completed"
    },
    "tags": []
   },
   "outputs": [],
   "source": [
    "x_train,x_test,y_train,y_test = train_test_split(images,labels,test_size=0.2,random_state=42,shuffle=True)"
   ]
  },
  {
   "cell_type": "code",
   "execution_count": 7,
   "id": "d8cd1abb",
   "metadata": {
    "execution": {
     "iopub.execute_input": "2024-12-18T21:10:53.875833Z",
     "iopub.status.busy": "2024-12-18T21:10:53.875489Z",
     "iopub.status.idle": "2024-12-18T21:10:53.881744Z",
     "shell.execute_reply": "2024-12-18T21:10:53.881120Z"
    },
    "papermill": {
     "duration": 0.012087,
     "end_time": "2024-12-18T21:10:53.883602",
     "exception": false,
     "start_time": "2024-12-18T21:10:53.871515",
     "status": "completed"
    },
    "tags": []
   },
   "outputs": [],
   "source": [
    "y_train = to_categorical(y_train)\n",
    "y_test = to_categorical(y_test)"
   ]
  },
  {
   "cell_type": "code",
   "execution_count": 8,
   "id": "732b0270",
   "metadata": {
    "execution": {
     "iopub.execute_input": "2024-12-18T21:10:53.890488Z",
     "iopub.status.busy": "2024-12-18T21:10:53.890258Z",
     "iopub.status.idle": "2024-12-18T21:10:55.374814Z",
     "shell.execute_reply": "2024-12-18T21:10:55.374000Z"
    },
    "papermill": {
     "duration": 1.490106,
     "end_time": "2024-12-18T21:10:55.376778",
     "exception": false,
     "start_time": "2024-12-18T21:10:53.886672",
     "status": "completed"
    },
    "tags": []
   },
   "outputs": [],
   "source": [
    "import numpy as np\n",
    "x_train = np.array(x_train)\n",
    "x_test = np.array(x_test)\n",
    "y_train = np.array(y_train)\n",
    "y_test = np.array(y_test)"
   ]
  },
  {
   "cell_type": "code",
   "execution_count": 9,
   "id": "6fdfb423",
   "metadata": {
    "execution": {
     "iopub.execute_input": "2024-12-18T21:10:55.384296Z",
     "iopub.status.busy": "2024-12-18T21:10:55.384032Z",
     "iopub.status.idle": "2024-12-18T21:10:55.443290Z",
     "shell.execute_reply": "2024-12-18T21:10:55.442534Z"
    },
    "papermill": {
     "duration": 0.065087,
     "end_time": "2024-12-18T21:10:55.445272",
     "exception": false,
     "start_time": "2024-12-18T21:10:55.380185",
     "status": "completed"
    },
    "tags": []
   },
   "outputs": [],
   "source": [
    "import tensorflow as tf\n",
    "from tensorflow.keras import layers\n",
    "\n",
    "# Define the custom SkipConnection layer\n",
    "class SkipConnection(layers.Layer):\n",
    "    def __init__(self, num, kernel, **kwargs):\n",
    "        super(SkipConnection, self).__init__(**kwargs)\n",
    "        self.num = num\n",
    "        self.kernel = kernel\n",
    "        # Define the Conv2D layers\n",
    "        self.conv1 = layers.Conv2D(num, (kernel, kernel), padding=\"same\")\n",
    "        self.batchnorm1 = layers.BatchNormalization()\n",
    "        self.conv2 = layers.Conv2D(num, (kernel, kernel), padding=\"same\")\n",
    "        self.batchnorm2 = layers.BatchNormalization()\n",
    "        # self.conv3 = layers.Conv2D(num, (kernel, kernel), activation=\"relu\", padding=\"same\")\n",
    "        self.drop = layers.Dropout(0.2)\n",
    "        # Define a Conv2D layer for the skip path to match dimensions\n",
    "        self.match_channels = layers.Conv2D(num, (1, 1), activation=None, padding=\"same\")\n",
    "        self.add = layers.Add()\n",
    "\n",
    "    def call(self, inputs):\n",
    "        # Save the input for skip connection\n",
    "        input_skip = self.match_channels(inputs)\n",
    "        # Apply convolutional layers\n",
    "        x = self.conv1(inputs)\n",
    "        x = self.batchnorm1(x)\n",
    "        x = layers.ReLU()(x)\n",
    "        x = self.drop(x)\n",
    "        x = self.conv2(x)\n",
    "        x = self.batchnorm2(x)\n",
    "\n",
    "        x = self.add([x, input_skip])\n",
    "        x = layers.ReLU()(x)\n",
    "        return x"
   ]
  },
  {
   "cell_type": "code",
   "execution_count": 10,
   "id": "d2684184",
   "metadata": {
    "execution": {
     "iopub.execute_input": "2024-12-18T21:10:55.452983Z",
     "iopub.status.busy": "2024-12-18T21:10:55.452406Z",
     "iopub.status.idle": "2024-12-18T21:10:55.734803Z",
     "shell.execute_reply": "2024-12-18T21:10:55.733886Z"
    },
    "papermill": {
     "duration": 0.287946,
     "end_time": "2024-12-18T21:10:55.736477",
     "exception": false,
     "start_time": "2024-12-18T21:10:55.448531",
     "status": "completed"
    },
    "tags": []
   },
   "outputs": [],
   "source": [
    "tf.keras.backend.clear_session()"
   ]
  },
  {
   "cell_type": "code",
   "execution_count": 11,
   "id": "b671a72a",
   "metadata": {
    "execution": {
     "iopub.execute_input": "2024-12-18T21:10:55.743982Z",
     "iopub.status.busy": "2024-12-18T21:10:55.743690Z",
     "iopub.status.idle": "2024-12-18T21:10:55.747430Z",
     "shell.execute_reply": "2024-12-18T21:10:55.746697Z"
    },
    "papermill": {
     "duration": 0.009125,
     "end_time": "2024-12-18T21:10:55.748974",
     "exception": false,
     "start_time": "2024-12-18T21:10:55.739849",
     "status": "completed"
    },
    "tags": []
   },
   "outputs": [],
   "source": [
    "# physical_devices = tf.config.list_physical_devices('GPU')\n",
    "# for device in physical_devices:\n",
    "#     try:\n",
    "#         tf.config.experimental.set_memory_growth(device, True)\n",
    "#     except RuntimeError as e:\n",
    "#         print(e)  # Handle any errors (e.g., if memory growth was already set)"
   ]
  },
  {
   "cell_type": "code",
   "execution_count": 12,
   "id": "34af1307",
   "metadata": {
    "execution": {
     "iopub.execute_input": "2024-12-18T21:10:55.755933Z",
     "iopub.status.busy": "2024-12-18T21:10:55.755687Z",
     "iopub.status.idle": "2024-12-18T21:15:57.241023Z",
     "shell.execute_reply": "2024-12-18T21:15:57.240015Z"
    },
    "papermill": {
     "duration": 301.49113,
     "end_time": "2024-12-18T21:15:57.243122",
     "exception": false,
     "start_time": "2024-12-18T21:10:55.751992",
     "status": "completed"
    },
    "tags": []
   },
   "outputs": [
    {
     "data": {
      "text/html": [
       "<pre style=\"white-space:pre;overflow-x:auto;line-height:normal;font-family:Menlo,'DejaVu Sans Mono',consolas,'Courier New',monospace\"><span style=\"font-weight: bold\">Model: \"sequential\"</span>\n",
       "</pre>\n"
      ],
      "text/plain": [
       "\u001b[1mModel: \"sequential\"\u001b[0m\n"
      ]
     },
     "metadata": {},
     "output_type": "display_data"
    },
    {
     "data": {
      "text/html": [
       "<pre style=\"white-space:pre;overflow-x:auto;line-height:normal;font-family:Menlo,'DejaVu Sans Mono',consolas,'Courier New',monospace\">┏━━━━━━━━━━━━━━━━━━━━━━━━━━━━━━━━━┳━━━━━━━━━━━━━━━━━━━━━━━━┳━━━━━━━━━━━━━━━┓\n",
       "┃<span style=\"font-weight: bold\"> Layer (type)                    </span>┃<span style=\"font-weight: bold\"> Output Shape           </span>┃<span style=\"font-weight: bold\">       Param # </span>┃\n",
       "┡━━━━━━━━━━━━━━━━━━━━━━━━━━━━━━━━━╇━━━━━━━━━━━━━━━━━━━━━━━━╇━━━━━━━━━━━━━━━┩\n",
       "│ skip_connection                 │ (<span style=\"color: #00d7ff; text-decoration-color: #00d7ff\">None</span>, <span style=\"color: #00af00; text-decoration-color: #00af00\">100</span>, <span style=\"color: #00af00; text-decoration-color: #00af00\">100</span>, <span style=\"color: #00af00; text-decoration-color: #00af00\">32</span>)   │        <span style=\"color: #00af00; text-decoration-color: #00af00\">28,448</span> │\n",
       "│ (<span style=\"color: #0087ff; text-decoration-color: #0087ff\">SkipConnection</span>)                │                        │               │\n",
       "├─────────────────────────────────┼────────────────────────┼───────────────┤\n",
       "│ skip_connection_1               │ (<span style=\"color: #00d7ff; text-decoration-color: #00d7ff\">None</span>, <span style=\"color: #00af00; text-decoration-color: #00af00\">100</span>, <span style=\"color: #00af00; text-decoration-color: #00af00\">100</span>, <span style=\"color: #00af00; text-decoration-color: #00af00\">64</span>)   │       <span style=\"color: #00af00; text-decoration-color: #00af00\">156,352</span> │\n",
       "│ (<span style=\"color: #0087ff; text-decoration-color: #0087ff\">SkipConnection</span>)                │                        │               │\n",
       "├─────────────────────────────────┼────────────────────────┼───────────────┤\n",
       "│ flatten (<span style=\"color: #0087ff; text-decoration-color: #0087ff\">Flatten</span>)               │ (<span style=\"color: #00d7ff; text-decoration-color: #00d7ff\">None</span>, <span style=\"color: #00af00; text-decoration-color: #00af00\">640000</span>)         │             <span style=\"color: #00af00; text-decoration-color: #00af00\">0</span> │\n",
       "├─────────────────────────────────┼────────────────────────┼───────────────┤\n",
       "│ dense (<span style=\"color: #0087ff; text-decoration-color: #0087ff\">Dense</span>)                   │ (<span style=\"color: #00d7ff; text-decoration-color: #00d7ff\">None</span>, <span style=\"color: #00af00; text-decoration-color: #00af00\">4</span>)              │     <span style=\"color: #00af00; text-decoration-color: #00af00\">2,560,004</span> │\n",
       "└─────────────────────────────────┴────────────────────────┴───────────────┘\n",
       "</pre>\n"
      ],
      "text/plain": [
       "┏━━━━━━━━━━━━━━━━━━━━━━━━━━━━━━━━━┳━━━━━━━━━━━━━━━━━━━━━━━━┳━━━━━━━━━━━━━━━┓\n",
       "┃\u001b[1m \u001b[0m\u001b[1mLayer (type)                   \u001b[0m\u001b[1m \u001b[0m┃\u001b[1m \u001b[0m\u001b[1mOutput Shape          \u001b[0m\u001b[1m \u001b[0m┃\u001b[1m \u001b[0m\u001b[1m      Param #\u001b[0m\u001b[1m \u001b[0m┃\n",
       "┡━━━━━━━━━━━━━━━━━━━━━━━━━━━━━━━━━╇━━━━━━━━━━━━━━━━━━━━━━━━╇━━━━━━━━━━━━━━━┩\n",
       "│ skip_connection                 │ (\u001b[38;5;45mNone\u001b[0m, \u001b[38;5;34m100\u001b[0m, \u001b[38;5;34m100\u001b[0m, \u001b[38;5;34m32\u001b[0m)   │        \u001b[38;5;34m28,448\u001b[0m │\n",
       "│ (\u001b[38;5;33mSkipConnection\u001b[0m)                │                        │               │\n",
       "├─────────────────────────────────┼────────────────────────┼───────────────┤\n",
       "│ skip_connection_1               │ (\u001b[38;5;45mNone\u001b[0m, \u001b[38;5;34m100\u001b[0m, \u001b[38;5;34m100\u001b[0m, \u001b[38;5;34m64\u001b[0m)   │       \u001b[38;5;34m156,352\u001b[0m │\n",
       "│ (\u001b[38;5;33mSkipConnection\u001b[0m)                │                        │               │\n",
       "├─────────────────────────────────┼────────────────────────┼───────────────┤\n",
       "│ flatten (\u001b[38;5;33mFlatten\u001b[0m)               │ (\u001b[38;5;45mNone\u001b[0m, \u001b[38;5;34m640000\u001b[0m)         │             \u001b[38;5;34m0\u001b[0m │\n",
       "├─────────────────────────────────┼────────────────────────┼───────────────┤\n",
       "│ dense (\u001b[38;5;33mDense\u001b[0m)                   │ (\u001b[38;5;45mNone\u001b[0m, \u001b[38;5;34m4\u001b[0m)              │     \u001b[38;5;34m2,560,004\u001b[0m │\n",
       "└─────────────────────────────────┴────────────────────────┴───────────────┘\n"
      ]
     },
     "metadata": {},
     "output_type": "display_data"
    },
    {
     "data": {
      "text/html": [
       "<pre style=\"white-space:pre;overflow-x:auto;line-height:normal;font-family:Menlo,'DejaVu Sans Mono',consolas,'Courier New',monospace\"><span style=\"font-weight: bold\"> Total params: </span><span style=\"color: #00af00; text-decoration-color: #00af00\">2,744,804</span> (10.47 MB)\n",
       "</pre>\n"
      ],
      "text/plain": [
       "\u001b[1m Total params: \u001b[0m\u001b[38;5;34m2,744,804\u001b[0m (10.47 MB)\n"
      ]
     },
     "metadata": {},
     "output_type": "display_data"
    },
    {
     "data": {
      "text/html": [
       "<pre style=\"white-space:pre;overflow-x:auto;line-height:normal;font-family:Menlo,'DejaVu Sans Mono',consolas,'Courier New',monospace\"><span style=\"font-weight: bold\"> Trainable params: </span><span style=\"color: #00af00; text-decoration-color: #00af00\">2,744,420</span> (10.47 MB)\n",
       "</pre>\n"
      ],
      "text/plain": [
       "\u001b[1m Trainable params: \u001b[0m\u001b[38;5;34m2,744,420\u001b[0m (10.47 MB)\n"
      ]
     },
     "metadata": {},
     "output_type": "display_data"
    },
    {
     "data": {
      "text/html": [
       "<pre style=\"white-space:pre;overflow-x:auto;line-height:normal;font-family:Menlo,'DejaVu Sans Mono',consolas,'Courier New',monospace\"><span style=\"font-weight: bold\"> Non-trainable params: </span><span style=\"color: #00af00; text-decoration-color: #00af00\">384</span> (1.50 KB)\n",
       "</pre>\n"
      ],
      "text/plain": [
       "\u001b[1m Non-trainable params: \u001b[0m\u001b[38;5;34m384\u001b[0m (1.50 KB)\n"
      ]
     },
     "metadata": {},
     "output_type": "display_data"
    },
    {
     "name": "stdout",
     "output_type": "stream",
     "text": [
      "Epoch 1/100\n"
     ]
    },
    {
     "name": "stderr",
     "output_type": "stream",
     "text": [
      "WARNING: All log messages before absl::InitializeLog() is called are written to STDERR\n",
      "I0000 00:00:1734556265.371039      65 service.cc:145] XLA service 0x78c0e4006a60 initialized for platform CUDA (this does not guarantee that XLA will be used). Devices:\n",
      "I0000 00:00:1734556265.371145      65 service.cc:153]   StreamExecutor device (0): Tesla P100-PCIE-16GB, Compute Capability 6.0\n",
      "2024-12-18 21:11:15.803005: E external/local_xla/xla/service/slow_operation_alarm.cc:65] Trying algorithm eng0{} for conv (f32[64,32,5,5]{3,2,1,0}, u8[0]{0}) custom-call(f32[64,32,100,100]{3,2,1,0}, f32[64,64,100,100]{3,2,1,0}), window={size=5x5 pad=2_2x2_2}, dim_labels=bf01_oi01->bf01, custom_call_target=\"__cudnn$convBackwardFilter\", backend_config={\"operation_queue_id\":\"0\",\"wait_on_operation_queues\":[],\"cudnn_conv_backend_config\":{\"conv_result_scale\":1,\"activation_mode\":\"kNone\",\"side_input_scale\":0,\"leakyrelu_alpha\":0}} is taking a while...\n",
      "2024-12-18 21:11:16.060817: E external/local_xla/xla/service/slow_operation_alarm.cc:133] The operation took 1.257933176s\n",
      "Trying algorithm eng0{} for conv (f32[64,32,5,5]{3,2,1,0}, u8[0]{0}) custom-call(f32[64,32,100,100]{3,2,1,0}, f32[64,64,100,100]{3,2,1,0}), window={size=5x5 pad=2_2x2_2}, dim_labels=bf01_oi01->bf01, custom_call_target=\"__cudnn$convBackwardFilter\", backend_config={\"operation_queue_id\":\"0\",\"wait_on_operation_queues\":[],\"cudnn_conv_backend_config\":{\"conv_result_scale\":1,\"activation_mode\":\"kNone\",\"side_input_scale\":0,\"leakyrelu_alpha\":0}} is taking a while...\n"
     ]
    },
    {
     "name": "stdout",
     "output_type": "stream",
     "text": [
      "\u001b[1m  2/265\u001b[0m \u001b[37m━━━━━━━━━━━━━━━━━━━━\u001b[0m \u001b[1m24s\u001b[0m 92ms/step - accuracy: 0.3242 - loss: 14.6268  "
     ]
    },
    {
     "name": "stderr",
     "output_type": "stream",
     "text": [
      "I0000 00:00:1734556280.973406      65 device_compiler.h:188] Compiled cluster using XLA!  This line is logged at most once for the lifetime of the process.\n"
     ]
    },
    {
     "name": "stdout",
     "output_type": "stream",
     "text": [
      "\u001b[1m265/265\u001b[0m \u001b[32m━━━━━━━━━━━━━━━━━━━━\u001b[0m\u001b[37m\u001b[0m \u001b[1m59s\u001b[0m 151ms/step - accuracy: 0.5687 - loss: 20.0665 - val_accuracy: 0.5575 - val_loss: 1.1020\n",
      "Epoch 2/100\n",
      "\u001b[1m265/265\u001b[0m \u001b[32m━━━━━━━━━━━━━━━━━━━━\u001b[0m\u001b[37m\u001b[0m \u001b[1m26s\u001b[0m 99ms/step - accuracy: 0.7582 - loss: 0.6301 - val_accuracy: 0.7245 - val_loss: 0.6836\n",
      "Epoch 3/100\n",
      "\u001b[1m265/265\u001b[0m \u001b[32m━━━━━━━━━━━━━━━━━━━━\u001b[0m\u001b[37m\u001b[0m \u001b[1m26s\u001b[0m 99ms/step - accuracy: 0.8291 - loss: 0.4549 - val_accuracy: 0.7489 - val_loss: 0.6963\n",
      "Epoch 4/100\n",
      "\u001b[1m265/265\u001b[0m \u001b[32m━━━━━━━━━━━━━━━━━━━━\u001b[0m\u001b[37m\u001b[0m \u001b[1m26s\u001b[0m 99ms/step - accuracy: 0.8566 - loss: 0.3777 - val_accuracy: 0.7682 - val_loss: 0.7433\n",
      "Epoch 5/100\n",
      "\u001b[1m265/265\u001b[0m \u001b[32m━━━━━━━━━━━━━━━━━━━━\u001b[0m\u001b[37m\u001b[0m \u001b[1m26s\u001b[0m 99ms/step - accuracy: 0.8837 - loss: 0.3111 - val_accuracy: 0.8037 - val_loss: 0.5366\n",
      "Epoch 6/100\n",
      "\u001b[1m265/265\u001b[0m \u001b[32m━━━━━━━━━━━━━━━━━━━━\u001b[0m\u001b[37m\u001b[0m \u001b[1m26s\u001b[0m 99ms/step - accuracy: 0.9031 - loss: 0.2557 - val_accuracy: 0.7931 - val_loss: 0.6013\n",
      "Epoch 7/100\n",
      "\u001b[1m265/265\u001b[0m \u001b[32m━━━━━━━━━━━━━━━━━━━━\u001b[0m\u001b[37m\u001b[0m \u001b[1m26s\u001b[0m 99ms/step - accuracy: 0.9274 - loss: 0.1948 - val_accuracy: 0.6811 - val_loss: 1.2730\n",
      "Epoch 8/100\n",
      "\u001b[1m265/265\u001b[0m \u001b[32m━━━━━━━━━━━━━━━━━━━━\u001b[0m\u001b[37m\u001b[0m \u001b[1m26s\u001b[0m 99ms/step - accuracy: 0.9497 - loss: 0.1448 - val_accuracy: 0.6707 - val_loss: 1.5727\n",
      "Epoch 9/100\n",
      "\u001b[1m265/265\u001b[0m \u001b[32m━━━━━━━━━━━━━━━━━━━━\u001b[0m\u001b[37m\u001b[0m \u001b[1m26s\u001b[0m 99ms/step - accuracy: 0.9635 - loss: 0.1002 - val_accuracy: 0.6097 - val_loss: 2.0964\n",
      "Epoch 10/100\n",
      "\u001b[1m265/265\u001b[0m \u001b[32m━━━━━━━━━━━━━━━━━━━━\u001b[0m\u001b[37m\u001b[0m \u001b[1m26s\u001b[0m 99ms/step - accuracy: 0.9672 - loss: 0.0882 - val_accuracy: 0.6884 - val_loss: 1.4306\n"
     ]
    }
   ],
   "source": [
    "from keras.callbacks import EarlyStopping\n",
    "\n",
    "early_stopping = EarlyStopping(monitor='val_loss', patience=5, restore_best_weights=True)\n",
    "model = tf.keras.Sequential()\n",
    "model.add(layers.Input(shape=(100,100,3)))  # Example input shape\n",
    "\n",
    "listSteps = [32,64]\n",
    "for step in listSteps:\n",
    "    model.add(SkipConnection(num=step, kernel=5))  # Use the correct parameter name\n",
    "\n",
    "model.add(layers.Flatten())\n",
    "# model.add(layers.Dense(128, activation='relu'))\n",
    "# model.add(layers.Dropout(0.2))\n",
    "# model.add(layers.Dense(64, activation='relu'))\n",
    "model.add(layers.Dense(4, activation='softmax'))  # Example output layer for 10 classes\n",
    "\n",
    "model.summary()\n",
    "\n",
    "model.compile(loss='categorical_crossentropy',\n",
    "              optimizer=Adam(learning_rate=0.001),\n",
    "              metrics=['accuracy'])\n",
    "History = model.fit(x_train,y_train, epochs=100, batch_size=64, validation_data=(x_test,y_test),callbacks=[early_stopping])"
   ]
  },
  {
   "cell_type": "code",
   "execution_count": 13,
   "id": "b95fb632",
   "metadata": {
    "execution": {
     "iopub.execute_input": "2024-12-18T21:15:57.540584Z",
     "iopub.status.busy": "2024-12-18T21:15:57.540232Z",
     "iopub.status.idle": "2024-12-18T21:15:57.545456Z",
     "shell.execute_reply": "2024-12-18T21:15:57.544603Z"
    },
    "papermill": {
     "duration": 0.131595,
     "end_time": "2024-12-18T21:15:57.547037",
     "exception": false,
     "start_time": "2024-12-18T21:15:57.415442",
     "status": "completed"
    },
    "tags": []
   },
   "outputs": [
    {
     "name": "stdout",
     "output_type": "stream",
     "text": [
      "Best Epoch: 5\n",
      "Best Validation Accuracy: 0.8036853075027466\n"
     ]
    }
   ],
   "source": [
    "best_epoch = len(History.history['val_loss']) - early_stopping.patience\n",
    "best_val_accuracy = max(History.history['val_accuracy'])\n",
    "\n",
    "print(f\"Best Epoch: {best_epoch}\")\n",
    "print(f\"Best Validation Accuracy: {best_val_accuracy}\")"
   ]
  },
  {
   "cell_type": "code",
   "execution_count": 14,
   "id": "58dff877",
   "metadata": {
    "execution": {
     "iopub.execute_input": "2024-12-18T21:15:57.799315Z",
     "iopub.status.busy": "2024-12-18T21:15:57.798917Z",
     "iopub.status.idle": "2024-12-18T21:15:57.803191Z",
     "shell.execute_reply": "2024-12-18T21:15:57.802463Z"
    },
    "papermill": {
     "duration": 0.132885,
     "end_time": "2024-12-18T21:15:57.804707",
     "exception": false,
     "start_time": "2024-12-18T21:15:57.671822",
     "status": "completed"
    },
    "tags": []
   },
   "outputs": [],
   "source": [
    "\n",
    "# strategy = tf.distribute.MirroredStrategy()\n",
    "# print(\"Number of devices: \", strategy.num_replicas_in_sync)\n",
    "# with strategy.scope():\n",
    "#     model = tf.keras.Sequential()\n",
    "#     model.add(layers.Input(shape=(200, 200, 3)))  # Example input shape\n",
    "    \n",
    "#     listSteps = [128,256]\n",
    "#     for step in listSteps:\n",
    "#         model.add(SkipConnection(num=step, kernel=3))  # Use the correct parameter name\n",
    "    \n",
    "#     model.add(layers.Flatten())\n",
    "#     # model.add(layers.Dense(128, activation='relu'))\n",
    "#     # model.add(layers.Dropout(0.05))\n",
    "#     # model.add(layers.Dense(64, activation='relu'))\n",
    "#     model.add(layers.Dense(4, activation='softmax'))  # Example output layer for 10 classes\n",
    "    \n",
    "#     model.summary()\n",
    "    \n",
    "#     model.compile(loss='binary_crossentropy',\n",
    "#                   optimizer=Adam(),\n",
    "#                   metrics=['accuracy'])\n",
    "# model.fit(x_train,y_train, epochs=50, batch_size=92, validation_data=(x_test,y_test))"
   ]
  },
  {
   "cell_type": "code",
   "execution_count": 15,
   "id": "65b396e5",
   "metadata": {
    "execution": {
     "iopub.execute_input": "2024-12-18T21:15:58.051893Z",
     "iopub.status.busy": "2024-12-18T21:15:58.051558Z",
     "iopub.status.idle": "2024-12-18T21:15:58.056274Z",
     "shell.execute_reply": "2024-12-18T21:15:58.055418Z"
    },
    "papermill": {
     "duration": 0.130312,
     "end_time": "2024-12-18T21:15:58.058152",
     "exception": false,
     "start_time": "2024-12-18T21:15:57.927840",
     "status": "completed"
    },
    "tags": []
   },
   "outputs": [
    {
     "name": "stdout",
     "output_type": "stream",
     "text": [
      "(16932, 100, 100, 3)\n",
      "(4233, 100, 100, 3)\n",
      "(16932, 4)\n",
      "(4233, 4)\n"
     ]
    }
   ],
   "source": [
    "print(x_train.shape)\n",
    "print(x_test.shape)\n",
    "print(y_train.shape)\n",
    "print(y_test.shape)"
   ]
  },
  {
   "cell_type": "code",
   "execution_count": 16,
   "id": "fa4ef10c",
   "metadata": {
    "execution": {
     "iopub.execute_input": "2024-12-18T21:15:58.312210Z",
     "iopub.status.busy": "2024-12-18T21:15:58.311495Z",
     "iopub.status.idle": "2024-12-18T21:15:58.315407Z",
     "shell.execute_reply": "2024-12-18T21:15:58.314536Z"
    },
    "papermill": {
     "duration": 0.133217,
     "end_time": "2024-12-18T21:15:58.316982",
     "exception": false,
     "start_time": "2024-12-18T21:15:58.183765",
     "status": "completed"
    },
    "tags": []
   },
   "outputs": [],
   "source": [
    "# History = model.fit(x_train,y_train, epochs=50, batch_size=46, validation_data=(x_test,y_test))"
   ]
  }
 ],
 "metadata": {
  "kaggle": {
   "accelerator": "gpu",
   "dataSources": [
    {
     "datasetId": 1357907,
     "sourceId": 2258144,
     "sourceType": "datasetVersion"
    }
   ],
   "dockerImageVersionId": 30805,
   "isGpuEnabled": true,
   "isInternetEnabled": true,
   "language": "python",
   "sourceType": "notebook"
  },
  "kernelspec": {
   "display_name": "Python 3",
   "language": "python",
   "name": "python3"
  },
  "language_info": {
   "codemirror_mode": {
    "name": "ipython",
    "version": 3
   },
   "file_extension": ".py",
   "mimetype": "text/x-python",
   "name": "python",
   "nbconvert_exporter": "python",
   "pygments_lexer": "ipython3",
   "version": "3.10.14"
  },
  "papermill": {
   "default_parameters": {},
   "duration": 590.86818,
   "end_time": "2024-12-18T21:16:01.772793",
   "environment_variables": {},
   "exception": null,
   "input_path": "__notebook__.ipynb",
   "output_path": "__notebook__.ipynb",
   "parameters": {},
   "start_time": "2024-12-18T21:06:10.904613",
   "version": "2.6.0"
  }
 },
 "nbformat": 4,
 "nbformat_minor": 5
}
