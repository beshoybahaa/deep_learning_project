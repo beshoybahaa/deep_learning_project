{
 "cells": [
  {
   "cell_type": "code",
   "execution_count": 1,
   "id": "86a36d37",
   "metadata": {
    "_cell_guid": "b1076dfc-b9ad-4769-8c92-a6c4dae69d19",
    "_uuid": "8f2839f25d086af736a60e9eeb907d3b93b6e0e5",
    "execution": {
     "iopub.execute_input": "2024-12-18T21:13:05.653086Z",
     "iopub.status.busy": "2024-12-18T21:13:05.652721Z",
     "iopub.status.idle": "2024-12-18T21:13:21.240211Z",
     "shell.execute_reply": "2024-12-18T21:13:21.239427Z"
    },
    "papermill": {
     "duration": 15.595042,
     "end_time": "2024-12-18T21:13:21.242530",
     "exception": false,
     "start_time": "2024-12-18T21:13:05.647488",
     "status": "completed"
    },
    "tags": []
   },
   "outputs": [],
   "source": [
    "import os\n",
    "import cv2\n",
    "from keras import layers\n",
    "from keras import models\n",
    "from keras.utils import to_categorical\n",
    "from sklearn.model_selection import train_test_split\n",
    "import matplotlib.pyplot as plt\n",
    "from tensorflow.keras.optimizers import Adam"
   ]
  },
  {
   "cell_type": "code",
   "execution_count": 2,
   "id": "42548ec7",
   "metadata": {
    "execution": {
     "iopub.execute_input": "2024-12-18T21:13:21.250435Z",
     "iopub.status.busy": "2024-12-18T21:13:21.249842Z",
     "iopub.status.idle": "2024-12-18T21:14:06.974947Z",
     "shell.execute_reply": "2024-12-18T21:14:06.974106Z"
    },
    "papermill": {
     "duration": 45.73118,
     "end_time": "2024-12-18T21:14:06.977127",
     "exception": false,
     "start_time": "2024-12-18T21:13:21.245947",
     "status": "completed"
    },
    "tags": []
   },
   "outputs": [],
   "source": [
    "path = \"/kaggle/input/covid19-radiography-dataset/COVID-19_Radiography_Dataset/COVID-19_Radiography_Dataset\"\n",
    "images = []\n",
    "labels = []\n",
    "i = 0\n",
    "for files in os.listdir(path):\n",
    "    counter = 0\n",
    "    for imagesPath in os.listdir(path+\"/\"+files):\n",
    "        img = cv2.imread(path+\"/\"+files+\"/\"+imagesPath)\n",
    "        img = cv2.resize(img,(200,200))\n",
    "        img = img/255\n",
    "        images.append(img)\n",
    "        labels.append(i)\n",
    "        if counter == 1330:\n",
    "            break\n",
    "        counter += 1\n",
    "    i += 1"
   ]
  },
  {
   "cell_type": "code",
   "execution_count": 3,
   "id": "5346ccf4",
   "metadata": {
    "execution": {
     "iopub.execute_input": "2024-12-18T21:14:06.984697Z",
     "iopub.status.busy": "2024-12-18T21:14:06.984348Z",
     "iopub.status.idle": "2024-12-18T21:14:06.989121Z",
     "shell.execute_reply": "2024-12-18T21:14:06.987876Z"
    },
    "papermill": {
     "duration": 0.010752,
     "end_time": "2024-12-18T21:14:06.991052",
     "exception": false,
     "start_time": "2024-12-18T21:14:06.980300",
     "status": "completed"
    },
    "tags": []
   },
   "outputs": [],
   "source": [
    "# labels = to_categorical(labels)"
   ]
  },
  {
   "cell_type": "code",
   "execution_count": 4,
   "id": "b3317c7a",
   "metadata": {
    "execution": {
     "iopub.execute_input": "2024-12-18T21:14:06.997936Z",
     "iopub.status.busy": "2024-12-18T21:14:06.997654Z",
     "iopub.status.idle": "2024-12-18T21:14:07.007630Z",
     "shell.execute_reply": "2024-12-18T21:14:07.006782Z"
    },
    "papermill": {
     "duration": 0.015649,
     "end_time": "2024-12-18T21:14:07.009474",
     "exception": false,
     "start_time": "2024-12-18T21:14:06.993825",
     "status": "completed"
    },
    "tags": []
   },
   "outputs": [],
   "source": [
    "x_train,x_test,y_train,y_test = train_test_split(images,labels,test_size=0.2,random_state=42,shuffle=True)"
   ]
  },
  {
   "cell_type": "code",
   "execution_count": 5,
   "id": "1cbdbe12",
   "metadata": {
    "execution": {
     "iopub.execute_input": "2024-12-18T21:14:07.016158Z",
     "iopub.status.busy": "2024-12-18T21:14:07.015877Z",
     "iopub.status.idle": "2024-12-18T21:14:07.021042Z",
     "shell.execute_reply": "2024-12-18T21:14:07.020112Z"
    },
    "papermill": {
     "duration": 0.010792,
     "end_time": "2024-12-18T21:14:07.023019",
     "exception": false,
     "start_time": "2024-12-18T21:14:07.012227",
     "status": "completed"
    },
    "tags": []
   },
   "outputs": [],
   "source": [
    "y_train = to_categorical(y_train)\n",
    "y_test = to_categorical(y_test)"
   ]
  },
  {
   "cell_type": "code",
   "execution_count": 6,
   "id": "c923736d",
   "metadata": {
    "execution": {
     "iopub.execute_input": "2024-12-18T21:14:07.030084Z",
     "iopub.status.busy": "2024-12-18T21:14:07.029787Z",
     "iopub.status.idle": "2024-12-18T21:14:07.033856Z",
     "shell.execute_reply": "2024-12-18T21:14:07.033051Z"
    },
    "papermill": {
     "duration": 0.00979,
     "end_time": "2024-12-18T21:14:07.035754",
     "exception": false,
     "start_time": "2024-12-18T21:14:07.025964",
     "status": "completed"
    },
    "tags": []
   },
   "outputs": [],
   "source": [
    "# x_train = x_train[:14812]\n",
    "# x_test = x_test[:6348]\n",
    "# y_train = y_train[:14812]\n",
    "# y_test = y_test[:6348]"
   ]
  },
  {
   "cell_type": "code",
   "execution_count": 7,
   "id": "e63ce7fb",
   "metadata": {
    "execution": {
     "iopub.execute_input": "2024-12-18T21:14:07.043920Z",
     "iopub.status.busy": "2024-12-18T21:14:07.043618Z",
     "iopub.status.idle": "2024-12-18T21:14:08.647397Z",
     "shell.execute_reply": "2024-12-18T21:14:08.646414Z"
    },
    "papermill": {
     "duration": 1.611102,
     "end_time": "2024-12-18T21:14:08.649774",
     "exception": false,
     "start_time": "2024-12-18T21:14:07.038672",
     "status": "completed"
    },
    "tags": []
   },
   "outputs": [],
   "source": [
    "import numpy as np\n",
    "x_train = np.array(x_train)\n",
    "x_test = np.array(x_test)\n",
    "y_train = np.array(y_train)\n",
    "y_test = np.array(y_test)"
   ]
  },
  {
   "cell_type": "code",
   "execution_count": 8,
   "id": "437d01aa",
   "metadata": {
    "execution": {
     "iopub.execute_input": "2024-12-18T21:14:08.657604Z",
     "iopub.status.busy": "2024-12-18T21:14:08.656785Z",
     "iopub.status.idle": "2024-12-18T21:14:08.919059Z",
     "shell.execute_reply": "2024-12-18T21:14:08.918072Z"
    },
    "papermill": {
     "duration": 0.268588,
     "end_time": "2024-12-18T21:14:08.921362",
     "exception": false,
     "start_time": "2024-12-18T21:14:08.652774",
     "status": "completed"
    },
    "tags": []
   },
   "outputs": [],
   "source": [
    "from tensorflow.keras.applications import Xception\n",
    "from keras_tuner import Hyperband\n",
    "from keras.callbacks import EarlyStopping, ReduceLROnPlateau\n",
    "import keras_tuner as kt\n",
    "from tensorflow.keras.applications import ResNet50"
   ]
  },
  {
   "cell_type": "code",
   "execution_count": 9,
   "id": "a0d25ced",
   "metadata": {
    "execution": {
     "iopub.execute_input": "2024-12-18T21:14:08.928807Z",
     "iopub.status.busy": "2024-12-18T21:14:08.928460Z",
     "iopub.status.idle": "2024-12-18T21:14:15.557673Z",
     "shell.execute_reply": "2024-12-18T21:14:15.556732Z"
    },
    "papermill": {
     "duration": 6.63592,
     "end_time": "2024-12-18T21:14:15.560206",
     "exception": false,
     "start_time": "2024-12-18T21:14:08.924286",
     "status": "completed"
    },
    "tags": []
   },
   "outputs": [
    {
     "name": "stdout",
     "output_type": "stream",
     "text": [
      "Downloading data from https://storage.googleapis.com/tensorflow/keras-applications/resnet/resnet50_weights_tf_dim_ordering_tf_kernels_notop.h5\n",
      "\u001b[1m94765736/94765736\u001b[0m \u001b[32m━━━━━━━━━━━━━━━━━━━━\u001b[0m\u001b[37m\u001b[0m \u001b[1m4s\u001b[0m 0us/step\n"
     ]
    }
   ],
   "source": [
    "base_model = ResNet50(include_top=False, weights='imagenet', input_shape=(200, 200, 3))\n",
    "base_model.trainable = False  # Freeze the base model layers"
   ]
  },
  {
   "cell_type": "code",
   "execution_count": 10,
   "id": "2fb42424",
   "metadata": {
    "execution": {
     "iopub.execute_input": "2024-12-18T21:14:15.575451Z",
     "iopub.status.busy": "2024-12-18T21:14:15.574826Z",
     "iopub.status.idle": "2024-12-18T21:14:15.582158Z",
     "shell.execute_reply": "2024-12-18T21:14:15.581241Z"
    },
    "papermill": {
     "duration": 0.016902,
     "end_time": "2024-12-18T21:14:15.583959",
     "exception": false,
     "start_time": "2024-12-18T21:14:15.567057",
     "status": "completed"
    },
    "tags": []
   },
   "outputs": [],
   "source": [
    "def build_model(hp):\n",
    "    # Add custom classification layers\n",
    "    x = base_model.output\n",
    "    x = layers.GlobalAveragePooling2D()(x)\n",
    "    x = layers.Dense(hp.Int('units1', min_value=256, max_value=1024, step=128), activation='relu')(x)\n",
    "    x = layers.Dropout(hp.Float('dropout1', 0.2, 0.5, step=0.1))(x)\n",
    "    x = layers.Dense(hp.Int('units2', min_value=128, max_value=512, step=64), activation='relu')(x)\n",
    "    # x = layers.Dropout(hp.Float('dropout2', 0.2, 0.5, step=0.1))(x)\n",
    "    x = layers.Dense(hp.Int('units2', min_value=64, max_value=128, step=32), activation='relu')(x)\n",
    "    predictions = layers.Dense(4, activation='softmax')(x)\n",
    "\n",
    "    model = models.Model(inputs=base_model.input, outputs=predictions)\n",
    "    \n",
    "    model.compile(\n",
    "        optimizer=Adam(learning_rate=hp.Choice('learning_rate', [1e-3, 1e-4, 1e-5])),\n",
    "        loss='categorical_crossentropy',\n",
    "        metrics=['accuracy']\n",
    "    )\n",
    "    return model"
   ]
  },
  {
   "cell_type": "code",
   "execution_count": 11,
   "id": "fb8a9d6e",
   "metadata": {
    "execution": {
     "iopub.execute_input": "2024-12-18T21:14:15.598326Z",
     "iopub.status.busy": "2024-12-18T21:14:15.597637Z",
     "iopub.status.idle": "2024-12-18T21:59:44.999403Z",
     "shell.execute_reply": "2024-12-18T21:59:44.998424Z"
    },
    "papermill": {
     "duration": 2729.411237,
     "end_time": "2024-12-18T21:59:45.001560",
     "exception": false,
     "start_time": "2024-12-18T21:14:15.590323",
     "status": "completed"
    },
    "tags": []
   },
   "outputs": [
    {
     "name": "stdout",
     "output_type": "stream",
     "text": [
      "Trial 30 Complete [00h 03m 14s]\n",
      "val_accuracy: 0.4478873312473297\n",
      "\n",
      "Best val_accuracy So Far: 0.6553990840911865\n",
      "Total elapsed time: 00h 45m 29s\n"
     ]
    }
   ],
   "source": [
    "# Step 2: Set up the tuner\n",
    "tuner = Hyperband(\n",
    "    build_model,\n",
    "    objective='val_accuracy',\n",
    "    max_epochs=20,\n",
    "    factor=3,\n",
    "    directory='hyperparam_tuning',\n",
    "    project_name='xception_tuning'\n",
    ")\n",
    "\n",
    "# Step 3: Callbacks\n",
    "early_stopping = EarlyStopping(monitor='val_loss', patience=5, restore_best_weights=True)\n",
    "reduce_lr = ReduceLROnPlateau(monitor='val_loss', factor=0.2, patience=3, min_lr=1e-6)\n",
    "\n",
    "# Step 4: Perform the hyperparameter search\n",
    "tuner.search(x_train, y_train, validation_data=(x_test, y_test), callbacks=[early_stopping], epochs=50)"
   ]
  },
  {
   "cell_type": "code",
   "execution_count": null,
   "id": "1151e351",
   "metadata": {
    "papermill": {
     "duration": 0.006203,
     "end_time": "2024-12-18T21:59:45.014497",
     "exception": false,
     "start_time": "2024-12-18T21:59:45.008294",
     "status": "completed"
    },
    "tags": []
   },
   "outputs": [],
   "source": []
  }
 ],
 "metadata": {
  "kaggle": {
   "accelerator": "gpu",
   "dataSources": [
    {
     "datasetId": 1357907,
     "sourceId": 2258144,
     "sourceType": "datasetVersion"
    }
   ],
   "dockerImageVersionId": 30805,
   "isGpuEnabled": true,
   "isInternetEnabled": true,
   "language": "python",
   "sourceType": "notebook"
  },
  "kernelspec": {
   "display_name": "Python 3",
   "language": "python",
   "name": "python3"
  },
  "language_info": {
   "codemirror_mode": {
    "name": "ipython",
    "version": 3
   },
   "file_extension": ".py",
   "mimetype": "text/x-python",
   "name": "python",
   "nbconvert_exporter": "python",
   "pygments_lexer": "ipython3",
   "version": "3.10.14"
  },
  "papermill": {
   "default_parameters": {},
   "duration": 2806.987989,
   "end_time": "2024-12-18T21:59:49.756682",
   "environment_variables": {},
   "exception": null,
   "input_path": "__notebook__.ipynb",
   "output_path": "__notebook__.ipynb",
   "parameters": {},
   "start_time": "2024-12-18T21:13:02.768693",
   "version": "2.6.0"
  }
 },
 "nbformat": 4,
 "nbformat_minor": 5
}
